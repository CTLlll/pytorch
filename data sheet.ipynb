{
 "cells": [
  {
   "cell_type": "code",
   "execution_count": 38,
   "outputs": [],
   "source": [
    "import os\n",
    "\n",
    "os.makedirs(os.path.join('..''data'),exist_ok=True)\n",
    "data_file = os.path.join('..','data','house_tiny.csv')\n",
    "\n",
    "with open(data_file,'w') as f:\n",
    "    f.write('numrooms,ally,price\\n')\n",
    "    f.write('NA,ally,4444\\n')\n",
    "    f.write('2,NA,1111\\n')\n",
    "    f.write('4,NA,5\\n')\n",
    "    f.write('NA,NA,24\\n')"
   ],
   "metadata": {
    "collapsed": false,
    "ExecuteTime": {
     "end_time": "2023-10-24T12:45:56.766825400Z",
     "start_time": "2023-10-24T12:45:56.752820800Z"
    }
   },
   "id": "3d5ba0e90a76afe2"
  },
  {
   "cell_type": "code",
   "execution_count": 39,
   "outputs": [
    {
     "name": "stdout",
     "output_type": "stream",
     "text": [
      "   numrooms  ally  price\n",
      "0       NaN  ally   4444\n",
      "1       2.0   NaN   1111\n",
      "2       4.0   NaN      5\n",
      "3       NaN   NaN     24\n"
     ]
    },
    {
     "data": {
      "text/plain": "   numrooms  ally  price\n0       NaN  ally   4444\n1       2.0   NaN   1111\n2       4.0   NaN      5\n3       NaN   NaN     24",
      "text/html": "<div>\n<style scoped>\n    .dataframe tbody tr th:only-of-type {\n        vertical-align: middle;\n    }\n\n    .dataframe tbody tr th {\n        vertical-align: top;\n    }\n\n    .dataframe thead th {\n        text-align: right;\n    }\n</style>\n<table border=\"1\" class=\"dataframe\">\n  <thead>\n    <tr style=\"text-align: right;\">\n      <th></th>\n      <th>numrooms</th>\n      <th>ally</th>\n      <th>price</th>\n    </tr>\n  </thead>\n  <tbody>\n    <tr>\n      <th>0</th>\n      <td>NaN</td>\n      <td>ally</td>\n      <td>4444</td>\n    </tr>\n    <tr>\n      <th>1</th>\n      <td>2.0</td>\n      <td>NaN</td>\n      <td>1111</td>\n    </tr>\n    <tr>\n      <th>2</th>\n      <td>4.0</td>\n      <td>NaN</td>\n      <td>5</td>\n    </tr>\n    <tr>\n      <th>3</th>\n      <td>NaN</td>\n      <td>NaN</td>\n      <td>24</td>\n    </tr>\n  </tbody>\n</table>\n</div>"
     },
     "execution_count": 39,
     "metadata": {},
     "output_type": "execute_result"
    }
   ],
   "source": [
    "import pandas as pd\n",
    "\n",
    "data = pd.read_csv(data_file)\n",
    "print(data)\n",
    "data"
   ],
   "metadata": {
    "collapsed": false,
    "ExecuteTime": {
     "end_time": "2023-10-24T12:45:59.585697100Z",
     "start_time": "2023-10-24T12:45:59.563600800Z"
    }
   },
   "id": "1c256a3aeabb3c08"
  },
  {
   "cell_type": "markdown",
   "source": [
    "插值和删除\n",
    "iloc indexlocation"
   ],
   "metadata": {
    "collapsed": false
   },
   "id": "ad5169eaf7609a16"
  },
  {
   "cell_type": "code",
   "execution_count": 42,
   "outputs": [
    {
     "name": "stdout",
     "output_type": "stream",
     "text": [
      "   numrooms  ally_ally  ally_nan\n",
      "0       3.0          1         0\n",
      "1       2.0          0         1\n",
      "2       4.0          0         1\n",
      "3       3.0          0         1\n"
     ]
    }
   ],
   "source": [
    "inputs, outputs = data.iloc[:,0:2], data.iloc[:,2]\n",
    "inputs =inputs.fillna(inputs.select_dtypes(include='number').mean())\n",
    "inputs = pd.get_dummies(inputs,dummy_na=True,dtype=int)  #自己转换一下\n",
    "#inputs = inputs.fillna(inputs.mean())\n",
    "print(inputs)"
   ],
   "metadata": {
    "collapsed": false,
    "ExecuteTime": {
     "end_time": "2023-10-24T12:48:05.172495400Z",
     "start_time": "2023-10-24T12:48:05.156474900Z"
    }
   },
   "id": "ef4f133c26346a59"
  },
  {
   "cell_type": "code",
   "execution_count": 43,
   "outputs": [
    {
     "data": {
      "text/plain": "(tensor([[3., 1., 0.],\n         [2., 0., 1.],\n         [4., 0., 1.],\n         [3., 0., 1.]], dtype=torch.float64),\n tensor([4444, 1111,    5,   24]))"
     },
     "execution_count": 43,
     "metadata": {},
     "output_type": "execute_result"
    }
   ],
   "source": [
    "import  torch\n",
    "\n",
    "x, y = torch.tensor(inputs.values),torch.tensor(outputs.values)\n",
    "x,y"
   ],
   "metadata": {
    "collapsed": false,
    "ExecuteTime": {
     "end_time": "2023-10-24T12:48:18.975747Z",
     "start_time": "2023-10-24T12:48:18.940747200Z"
    }
   },
   "id": "f033348c4175d2ef"
  },
  {
   "cell_type": "code",
   "execution_count": null,
   "outputs": [],
   "source": [],
   "metadata": {
    "collapsed": false
   },
   "id": "ca5b079eff625ed8"
  },
  {
   "cell_type": "code",
   "execution_count": null,
   "outputs": [],
   "source": [],
   "metadata": {
    "collapsed": false
   },
   "id": "c9142f1d045f9366"
  },
  {
   "cell_type": "code",
   "execution_count": null,
   "outputs": [],
   "source": [],
   "metadata": {
    "collapsed": false
   },
   "id": "5f0eb7044cc6fd5b"
  },
  {
   "cell_type": "code",
   "execution_count": null,
   "outputs": [],
   "source": [],
   "metadata": {
    "collapsed": false
   },
   "id": "de7b8ccfa99164e3"
  },
  {
   "cell_type": "code",
   "execution_count": null,
   "outputs": [],
   "source": [],
   "metadata": {
    "collapsed": false
   },
   "id": "684a043f02c94f38"
  },
  {
   "cell_type": "code",
   "execution_count": null,
   "outputs": [],
   "source": [],
   "metadata": {
    "collapsed": false
   },
   "id": "95d0f06db97c0b09"
  },
  {
   "cell_type": "code",
   "execution_count": null,
   "outputs": [],
   "source": [],
   "metadata": {
    "collapsed": false
   },
   "id": "a5ee70886600ed0f"
  },
  {
   "cell_type": "code",
   "execution_count": null,
   "outputs": [],
   "source": [],
   "metadata": {
    "collapsed": false
   },
   "id": "bf3948a1723b12ff"
  },
  {
   "cell_type": "code",
   "execution_count": null,
   "outputs": [],
   "source": [],
   "metadata": {
    "collapsed": false
   },
   "id": "2aab804b0584169c"
  },
  {
   "cell_type": "code",
   "execution_count": null,
   "outputs": [],
   "source": [],
   "metadata": {
    "collapsed": false
   },
   "id": "2e7c87894b93e9c8"
  }
 ],
 "metadata": {
  "kernelspec": {
   "display_name": "Python 3",
   "language": "python",
   "name": "python3"
  },
  "language_info": {
   "codemirror_mode": {
    "name": "ipython",
    "version": 2
   },
   "file_extension": ".py",
   "mimetype": "text/x-python",
   "name": "python",
   "nbconvert_exporter": "python",
   "pygments_lexer": "ipython2",
   "version": "2.7.6"
  }
 },
 "nbformat": 4,
 "nbformat_minor": 5
}
