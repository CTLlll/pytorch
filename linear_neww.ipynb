{
 "cells": [
  {
   "cell_type": "code",
   "execution_count": 22,
   "id": "initial_id",
   "metadata": {
    "collapsed": true,
    "ExecuteTime": {
     "end_time": "2023-10-24T18:13:01.972282600Z",
     "start_time": "2023-10-24T18:13:01.963086300Z"
    }
   },
   "outputs": [],
   "source": [
    "\n",
    "import numpy as np\n",
    "import  torch\n",
    "from torch.utils import  data\n",
    "from  d2l import  torch as d2l\n",
    "\n",
    "\n",
    "true_w = torch.tensor([2,-3.14])\n",
    "true_b = 4.2\n",
    "feathers, labels = d2l.synthetic_data(true_w,true_b,1000)"
   ]
  },
  {
   "cell_type": "code",
   "execution_count": 23,
   "outputs": [
    {
     "data": {
      "text/plain": "[tensor([[-1.6413,  0.2587],\n         [-0.4907, -0.2302],\n         [ 0.5088, -0.3172],\n         [-0.3231, -0.2636],\n         [-0.7568,  2.1379],\n         [ 0.5789,  0.2118],\n         [ 0.9223, -0.5888],\n         [-0.0301, -0.4979],\n         [ 0.6076,  0.5125],\n         [ 1.5817,  0.5370]]),\n tensor([[ 0.1095],\n         [ 3.9494],\n         [ 6.2210],\n         [ 4.3619],\n         [-4.0391],\n         [ 4.7136],\n         [ 7.8890],\n         [ 5.7068],\n         [ 3.8014],\n         [ 5.6804]])]"
     },
     "execution_count": 23,
     "metadata": {},
     "output_type": "execute_result"
    }
   ],
   "source": [
    "def load_array(data_arrays,batch_size,is_train = True):\n",
    "    dataset = data.TensorDataset(*data_arrays)\n",
    "    return data.DataLoader(dataset,batch_size,shuffle=is_train)\n",
    "\n",
    "batch_size = 10\n",
    "data_iter = load_array((feathers,labels),batch_size)\n",
    "\n",
    "next(iter(data_iter))"
   ],
   "metadata": {
    "collapsed": false,
    "ExecuteTime": {
     "end_time": "2023-10-24T18:13:04.981725400Z",
     "start_time": "2023-10-24T18:13:04.960711400Z"
    }
   },
   "id": "34eaa94c482e8a92"
  },
  {
   "cell_type": "code",
   "execution_count": 24,
   "outputs": [],
   "source": [
    "from torch import  nn\n",
    "\n",
    "net = nn.Sequential(nn.Linear(2,1))"
   ],
   "metadata": {
    "collapsed": false,
    "ExecuteTime": {
     "end_time": "2023-10-24T18:13:08.916923300Z",
     "start_time": "2023-10-24T18:13:08.895836900Z"
    }
   },
   "id": "1d3b7866a7f94e36"
  },
  {
   "cell_type": "code",
   "execution_count": 25,
   "outputs": [
    {
     "data": {
      "text/plain": "tensor([0.])"
     },
     "execution_count": 25,
     "metadata": {},
     "output_type": "execute_result"
    }
   ],
   "source": [
    "net[0].weight.data.normal_(0,0.01)\n",
    "net[0].bias.data.fill_(0)"
   ],
   "metadata": {
    "collapsed": false,
    "ExecuteTime": {
     "end_time": "2023-10-24T18:13:10.699497800Z",
     "start_time": "2023-10-24T18:13:10.687476700Z"
    }
   },
   "id": "4dd772c192ad8d67"
  },
  {
   "cell_type": "code",
   "execution_count": 26,
   "outputs": [],
   "source": [
    "loss = nn.MSELoss()"
   ],
   "metadata": {
    "collapsed": false,
    "ExecuteTime": {
     "end_time": "2023-10-24T18:13:13.432458600Z",
     "start_time": "2023-10-24T18:13:13.412461500Z"
    }
   },
   "id": "2e8054b73c31297a"
  },
  {
   "cell_type": "code",
   "execution_count": 27,
   "outputs": [],
   "source": [
    "trainer = torch.optim.SGD(net.parameters(),lr=0.03)"
   ],
   "metadata": {
    "collapsed": false,
    "ExecuteTime": {
     "end_time": "2023-10-24T18:13:14.489412800Z",
     "start_time": "2023-10-24T18:13:14.484415200Z"
    }
   },
   "id": "670fd59dbdc66d51"
  },
  {
   "cell_type": "code",
   "execution_count": 29,
   "outputs": [
    {
     "name": "stdout",
     "output_type": "stream",
     "text": [
      "epoch1,loss 0.000108\n",
      "epoch2,loss 0.000109\n",
      "epoch3,loss 0.000109\n"
     ]
    }
   ],
   "source": [
    "num_epochs = 3\n",
    "for epoch in range(num_epochs):\n",
    "    for x,y in data_iter:\n",
    "        l = loss(net(x),y)\n",
    "        trainer.zero_grad()\n",
    "        l.backward()\n",
    "        trainer.step()\n",
    "    l = loss(net(feathers),labels)\n",
    "    print(f'epoch{epoch+1},loss {l:f}')   #!!!!!这是l不是1\n",
    "    "
   ],
   "metadata": {
    "collapsed": false,
    "ExecuteTime": {
     "end_time": "2023-10-24T18:13:58.630819900Z",
     "start_time": "2023-10-24T18:13:58.391050100Z"
    }
   },
   "id": "c5bd6c13f8d960d6"
  },
  {
   "cell_type": "code",
   "execution_count": null,
   "outputs": [],
   "source": [],
   "metadata": {
    "collapsed": false
   },
   "id": "cd9529a3dec1a15f"
  },
  {
   "cell_type": "code",
   "execution_count": null,
   "outputs": [],
   "source": [],
   "metadata": {
    "collapsed": false
   },
   "id": "fd9679b8a345c117"
  },
  {
   "cell_type": "code",
   "execution_count": null,
   "outputs": [],
   "source": [],
   "metadata": {
    "collapsed": false
   },
   "id": "560dea8a005d7468"
  },
  {
   "cell_type": "code",
   "execution_count": null,
   "outputs": [],
   "source": [],
   "metadata": {
    "collapsed": false
   },
   "id": "465ac9df5e0b4316"
  },
  {
   "cell_type": "code",
   "execution_count": null,
   "outputs": [],
   "source": [],
   "metadata": {
    "collapsed": false
   },
   "id": "842b5304f3ad7a4e"
  },
  {
   "cell_type": "code",
   "execution_count": null,
   "outputs": [],
   "source": [],
   "metadata": {
    "collapsed": false
   },
   "id": "2185c2df225caf51"
  },
  {
   "cell_type": "code",
   "execution_count": null,
   "outputs": [],
   "source": [],
   "metadata": {
    "collapsed": false
   },
   "id": "fdb5d6c0785d6f9a"
  },
  {
   "cell_type": "code",
   "execution_count": null,
   "outputs": [],
   "source": [],
   "metadata": {
    "collapsed": false
   },
   "id": "db9dedee4a767406"
  }
 ],
 "metadata": {
  "kernelspec": {
   "display_name": "Python 3",
   "language": "python",
   "name": "python3"
  },
  "language_info": {
   "codemirror_mode": {
    "name": "ipython",
    "version": 2
   },
   "file_extension": ".py",
   "mimetype": "text/x-python",
   "name": "python",
   "nbconvert_exporter": "python",
   "pygments_lexer": "ipython2",
   "version": "2.7.6"
  }
 },
 "nbformat": 4,
 "nbformat_minor": 5
}
