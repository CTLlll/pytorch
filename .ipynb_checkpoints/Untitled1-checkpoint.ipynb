{
 "cells": [
  {
   "cell_type": "raw",
   "source": [],
   "metadata": {
    "collapsed": false
   },
   "id": "24b11caff46ff588"
  }
 ],
 "metadata": {},
 "nbformat": 4,
 "nbformat_minor": 5
}
