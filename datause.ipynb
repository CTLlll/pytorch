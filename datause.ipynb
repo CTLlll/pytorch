{
 "cells": [
  {
   "cell_type": "code",
   "execution_count": 3,
   "id": "6b6f8963",
   "metadata": {
    "ExecuteTime": {
     "end_time": "2023-10-24T09:18:12.884518900Z",
     "start_time": "2023-10-24T09:18:11.363575200Z"
    }
   },
   "outputs": [],
   "source": [
    "import torch"
   ]
  },
  {
   "cell_type": "code",
   "execution_count": 23,
   "outputs": [
    {
     "data": {
      "text/plain": "tensor([0, 1, 2, 3, 4, 5, 6, 7, 8, 9])"
     },
     "execution_count": 23,
     "metadata": {},
     "output_type": "execute_result"
    }
   ],
   "source": [
    "x =  torch.arange(10)\n",
    "x"
   ],
   "metadata": {
    "collapsed": false,
    "ExecuteTime": {
     "end_time": "2023-10-24T09:26:00.714419Z",
     "start_time": "2023-10-24T09:26:00.700409700Z"
    }
   },
   "id": "a6191690f5361148"
  },
  {
   "cell_type": "code",
   "execution_count": 21,
   "outputs": [
    {
     "data": {
      "text/plain": "torch.Size([10])"
     },
     "execution_count": 21,
     "metadata": {},
     "output_type": "execute_result"
    }
   ],
   "source": [
    "x.shape"
   ],
   "metadata": {
    "collapsed": false,
    "ExecuteTime": {
     "end_time": "2023-10-24T09:25:17.952392900Z",
     "start_time": "2023-10-24T09:25:17.935393400Z"
    }
   },
   "id": "ddb0bf65762901a"
  },
  {
   "cell_type": "code",
   "execution_count": 13,
   "outputs": [
    {
     "data": {
      "text/plain": "tensor([[0, 1]])"
     },
     "execution_count": 13,
     "metadata": {},
     "output_type": "execute_result"
    }
   ],
   "source": [
    "X = x.reshape(2,5)\n",
    "X"
   ],
   "metadata": {
    "collapsed": false,
    "ExecuteTime": {
     "end_time": "2023-10-24T09:21:04.177128100Z",
     "start_time": "2023-10-24T09:21:04.166122Z"
    }
   },
   "id": "9f160e726fd9a5b6"
  },
  {
   "cell_type": "code",
   "execution_count": null,
   "outputs": [],
   "source": [],
   "metadata": {
    "collapsed": false
   },
   "id": "40bca4629777081e"
  },
  {
   "cell_type": "code",
   "execution_count": 29,
   "outputs": [
    {
     "data": {
      "text/plain": "torch.Size([2, 3, 4])"
     },
     "execution_count": 29,
     "metadata": {},
     "output_type": "execute_result"
    }
   ],
   "source": [
    "torch.ones((2,3,4))\n",
    "torch.zeros(2,3,4).shape"
   ],
   "metadata": {
    "collapsed": false,
    "ExecuteTime": {
     "end_time": "2023-10-24T09:27:32.895208200Z",
     "start_time": "2023-10-24T09:27:32.888208900Z"
    }
   },
   "id": "8482d4a698e1e703"
  },
  {
   "cell_type": "code",
   "execution_count": 24,
   "outputs": [
    {
     "data": {
      "text/plain": "torch.Size([2, 4])"
     },
     "execution_count": 24,
     "metadata": {},
     "output_type": "execute_result"
    }
   ],
   "source": [
    "torch.tensor([[2,1,1,3],[1,2,3,3]])"
   ],
   "metadata": {
    "collapsed": false,
    "ExecuteTime": {
     "end_time": "2023-10-24T09:26:21.722384200Z",
     "start_time": "2023-10-24T09:26:21.709384100Z"
    }
   },
   "id": "e94322dcfebf9f4d"
  },
  {
   "cell_type": "code",
   "execution_count": 39,
   "outputs": [
    {
     "data": {
      "text/plain": "(tensor([1., 2., 3., 4., 5.]),\n tensor([1., 1., 1., 1., 1.]),\n tensor([2., 3., 4., 5., 6.]),\n tensor([1., 2., 3., 4., 5.]),\n tensor([1., 2., 3., 4., 5.]),\n tensor([1.0000e+00, 4.0000e+00, 2.7000e+01, 2.5600e+02, 3.1250e+03]))"
     },
     "execution_count": 39,
     "metadata": {},
     "output_type": "execute_result"
    }
   ],
   "source": [
    "x = torch.tensor([1.0,2,3,4,5])\n",
    "y = torch.ones(5)\n",
    "x,y,x+y,x*y,x**y,x**x"
   ],
   "metadata": {
    "collapsed": false,
    "ExecuteTime": {
     "end_time": "2023-10-24T09:30:28.147169400Z",
     "start_time": "2023-10-24T09:30:28.126148100Z"
    }
   },
   "id": "d53498def9f9d98b"
  },
  {
   "cell_type": "code",
   "execution_count": 48,
   "outputs": [
    {
     "data": {
      "text/plain": "(tensor([[ 0.,  1.,  2.,  3.],\n         [ 4.,  5.,  6.,  7.],\n         [ 8.,  9., 10., 11.],\n         [ 2.,  1.,  3.,  3.],\n         [ 1.,  2.,  3.,  4.],\n         [ 1.,  2.,  3.,  4.]]),\n tensor([[ 0.,  1.,  2.,  3.,  2.,  1.,  3.,  3.],\n         [ 4.,  5.,  6.,  7.,  1.,  2.,  3.,  4.],\n         [ 8.,  9., 10., 11.,  1.,  2.,  3.,  4.]]),\n tensor([[ 0.,  1.,  2.,  3.],\n         [ 4.,  5.,  6.,  7.],\n         [ 8.,  9., 10., 11.]]))"
     },
     "execution_count": 48,
     "metadata": {},
     "output_type": "execute_result"
    }
   ],
   "source": [
    "x =torch.arange(12,dtype=torch.float32).reshape(3,4)\n",
    "y =torch.tensor([[2.,1,3,3],[1,2,3,4],[1,2,3,4]])\n",
    "torch.cat((x,y),dim=0),torch.cat((x,y),dim=1),x\n"
   ],
   "metadata": {
    "collapsed": false,
    "ExecuteTime": {
     "end_time": "2023-10-24T09:38:20.870475Z",
     "start_time": "2023-10-24T09:38:20.849073900Z"
    }
   },
   "id": "1569b50d96611059"
  },
  {
   "cell_type": "code",
   "execution_count": 49,
   "outputs": [
    {
     "data": {
      "text/plain": "tensor([[False,  True, False,  True],\n        [False, False, False, False],\n        [False, False, False, False]])"
     },
     "execution_count": 49,
     "metadata": {},
     "output_type": "execute_result"
    }
   ],
   "source": [
    "x==y"
   ],
   "metadata": {
    "collapsed": false,
    "ExecuteTime": {
     "end_time": "2023-10-24T09:40:07.115441900Z",
     "start_time": "2023-10-24T09:40:07.098436500Z"
    }
   },
   "id": "8ec1614733c56323"
  },
  {
   "cell_type": "code",
   "execution_count": 50,
   "outputs": [
    {
     "data": {
      "text/plain": "tensor(66.)"
     },
     "execution_count": 50,
     "metadata": {},
     "output_type": "execute_result"
    }
   ],
   "source": [
    "x.sum() "
   ],
   "metadata": {
    "collapsed": false,
    "ExecuteTime": {
     "end_time": "2023-10-24T09:40:25.127238200Z",
     "start_time": "2023-10-24T09:40:25.115212400Z"
    }
   },
   "id": "e41874f0c4a7c341"
  },
  {
   "cell_type": "markdown",
   "source": [
    "boardcast"
   ],
   "metadata": {
    "collapsed": false
   },
   "id": "58fba8c37b16968f"
  },
  {
   "cell_type": "code",
   "execution_count": 52,
   "outputs": [
    {
     "data": {
      "text/plain": "(tensor([[0],\n         [1],\n         [2]]),\n tensor([[0, 1]]))"
     },
     "execution_count": 52,
     "metadata": {},
     "output_type": "execute_result"
    }
   ],
   "source": [
    "a = torch.arange(3).reshape((3,1))\n",
    "b = torch.arange(2).reshape((1,2))\n",
    "a,b"
   ],
   "metadata": {
    "collapsed": false,
    "ExecuteTime": {
     "end_time": "2023-10-24T09:42:59.273933800Z",
     "start_time": "2023-10-24T09:42:59.261929500Z"
    }
   },
   "id": "43833c84cf6e65a3"
  },
  {
   "cell_type": "code",
   "execution_count": 53,
   "outputs": [
    {
     "data": {
      "text/plain": "tensor([[0, 1],\n        [1, 2],\n        [2, 3]])"
     },
     "execution_count": 53,
     "metadata": {},
     "output_type": "execute_result"
    }
   ],
   "source": [
    "a + b"
   ],
   "metadata": {
    "collapsed": false,
    "ExecuteTime": {
     "end_time": "2023-10-24T09:43:38.655162900Z",
     "start_time": "2023-10-24T09:43:38.638090700Z"
    }
   },
   "id": "e301a4a01f1171a"
  },
  {
   "cell_type": "code",
   "execution_count": 63,
   "outputs": [
    {
     "data": {
      "text/plain": "(tensor([4., 5., 6., 7.]),\n tensor([ 8.,  9., 10., 11.]),\n tensor([[ 0.,  1.,  2.,  3.],\n         [ 4.,  5.,  6.,  7.],\n         [ 8.,  9., 10., 11.]]))"
     },
     "execution_count": 63,
     "metadata": {},
     "output_type": "execute_result"
    }
   ],
   "source": [
    "x[1],x[-1],x[:5] #多余的还是取全部"
   ],
   "metadata": {
    "collapsed": false,
    "ExecuteTime": {
     "end_time": "2023-10-24T09:46:49.943008200Z",
     "start_time": "2023-10-24T09:46:49.920767700Z"
    }
   },
   "id": "74dce882e48743bd"
  },
  {
   "cell_type": "code",
   "execution_count": 66,
   "outputs": [
    {
     "data": {
      "text/plain": "tensor([[ 0., 10.,  2.,  3.],\n        [ 4., 10.,  6.,  7.],\n        [ 8.,  9., 10., 11.]])"
     },
     "execution_count": 66,
     "metadata": {},
     "output_type": "execute_result"
    }
   ],
   "source": [
    "x[0,1] =10\n",
    "x"
   ],
   "metadata": {
    "collapsed": false,
    "ExecuteTime": {
     "end_time": "2023-10-24T09:47:54.608766200Z",
     "start_time": "2023-10-24T09:47:54.590880500Z"
    }
   },
   "id": "8b37099873a9e36c"
  },
  {
   "cell_type": "code",
   "execution_count": 68,
   "outputs": [
    {
     "data": {
      "text/plain": "tensor([[6., 6., 6., 6.],\n        [4., 4., 4., 4.],\n        [6., 6., 6., 6.]])"
     },
     "execution_count": 68,
     "metadata": {},
     "output_type": "execute_result"
    }
   ],
   "source": [
    "x[0::2,:] = 6\n",
    "x"
   ],
   "metadata": {
    "collapsed": false,
    "ExecuteTime": {
     "end_time": "2023-10-24T09:49:37.286039600Z",
     "start_time": "2023-10-24T09:49:37.270040Z"
    }
   },
   "id": "42a469fd697861f0"
  },
  {
   "cell_type": "markdown",
   "source": [
    "关于内存"
   ],
   "metadata": {
    "collapsed": false
   },
   "id": "1f162a3255e75735"
  },
  {
   "cell_type": "markdown",
   "source": [],
   "metadata": {
    "collapsed": false
   },
   "id": "3d70f706b1d7a1b6"
  },
  {
   "cell_type": "code",
   "execution_count": 76,
   "outputs": [
    {
     "data": {
      "text/plain": "False"
     },
     "execution_count": 76,
     "metadata": {},
     "output_type": "execute_result"
    }
   ],
   "source": [
    "before = id(y)\n",
    "y = x+y\n",
    "#y += x  # true\n",
    "id(y) == before"
   ],
   "metadata": {
    "collapsed": false,
    "ExecuteTime": {
     "end_time": "2023-10-24T09:59:06.887171Z",
     "start_time": "2023-10-24T09:59:06.875166700Z"
    }
   },
   "id": "db8921039d73b390"
  },
  {
   "cell_type": "code",
   "execution_count": 79,
   "outputs": [
    {
     "name": "stdout",
     "output_type": "stream",
     "text": [
      "id(z): 2736077943968\n",
      "id(z) 2736077942192\n"
     ]
    }
   ],
   "source": [
    "z = torch.zeros_like(y)\n",
    "z1 = torch.zeros_like(y)\n",
    "print(\"id(z):\",id(z))\n",
    "z =x + y\n",
    "print(\"id(z)\",id(z))\n"
   ],
   "metadata": {
    "collapsed": false,
    "ExecuteTime": {
     "end_time": "2023-10-24T11:46:35.168286500Z",
     "start_time": "2023-10-24T11:46:35.147286600Z"
    }
   },
   "id": "b8deba2ef911395b"
  },
  {
   "cell_type": "markdown",
   "source": [
    "比较大的注意不要过多赋值"
   ],
   "metadata": {
    "collapsed": false
   },
   "id": "daf753f0ca518559"
  },
  {
   "cell_type": "code",
   "execution_count": 80,
   "outputs": [
    {
     "data": {
      "text/plain": "(numpy.ndarray, torch.Tensor)"
     },
     "execution_count": 80,
     "metadata": {},
     "output_type": "execute_result"
    }
   ],
   "source": [
    "A = X.numpy()\n",
    "B =torch.tensor(A)\n",
    "type(A), type(B)"
   ],
   "metadata": {
    "collapsed": false,
    "ExecuteTime": {
     "end_time": "2023-10-24T11:49:14.153579400Z",
     "start_time": "2023-10-24T11:49:14.141542200Z"
    }
   },
   "id": "5e964629d9177004"
  },
  {
   "cell_type": "code",
   "execution_count": 81,
   "outputs": [
    {
     "data": {
      "text/plain": "(tensor([45.5000]), 45.5, 45.5, 45)"
     },
     "execution_count": 81,
     "metadata": {},
     "output_type": "execute_result"
    }
   ],
   "source": [
    "a =torch.tensor([45.5])\n",
    "a,a.item(),float(a),int(a)  #numpy"
   ],
   "metadata": {
    "collapsed": false,
    "ExecuteTime": {
     "end_time": "2023-10-24T11:56:23.060349Z",
     "start_time": "2023-10-24T11:56:23.012345Z"
    }
   },
   "id": "25cae672687625fe"
  },
  {
   "cell_type": "code",
   "execution_count": null,
   "outputs": [],
   "source": [],
   "metadata": {
    "collapsed": false
   },
   "id": "e7f62a408c568ba5"
  },
  {
   "cell_type": "code",
   "execution_count": null,
   "outputs": [],
   "source": [],
   "metadata": {
    "collapsed": false
   },
   "id": "c050c8c0da291fab"
  },
  {
   "cell_type": "code",
   "execution_count": null,
   "outputs": [],
   "source": [],
   "metadata": {
    "collapsed": false
   },
   "id": "e53420b0578f3dcf"
  },
  {
   "cell_type": "code",
   "execution_count": null,
   "outputs": [],
   "source": [],
   "metadata": {
    "collapsed": false
   },
   "id": "798028442d09980f"
  },
  {
   "cell_type": "code",
   "execution_count": null,
   "outputs": [],
   "source": [],
   "metadata": {
    "collapsed": false
   },
   "id": "4860b9c511e77cdd"
  },
  {
   "cell_type": "code",
   "execution_count": null,
   "outputs": [],
   "source": [],
   "metadata": {
    "collapsed": false
   },
   "id": "d77c68dc7646c210"
  },
  {
   "cell_type": "code",
   "execution_count": null,
   "outputs": [],
   "source": [],
   "metadata": {
    "collapsed": false
   },
   "id": "451f878e8e8b77a9"
  },
  {
   "cell_type": "code",
   "execution_count": null,
   "outputs": [],
   "source": [],
   "metadata": {
    "collapsed": false
   },
   "id": "f740f91ef64ff2a9"
  }
 ],
 "metadata": {
  "kernelspec": {
   "display_name": "Python 3 (ipykernel)",
   "language": "python",
   "name": "python3"
  },
  "language_info": {
   "codemirror_mode": {
    "name": "ipython",
    "version": 3
   },
   "file_extension": ".py",
   "mimetype": "text/x-python",
   "name": "python",
   "nbconvert_exporter": "python",
   "pygments_lexer": "ipython3",
   "version": "3.11.4"
  }
 },
 "nbformat": 4,
 "nbformat_minor": 5
}
